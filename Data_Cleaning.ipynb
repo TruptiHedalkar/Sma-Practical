{
  "nbformat": 4,
  "nbformat_minor": 0,
  "metadata": {
    "colab": {
      "provenance": []
    },
    "kernelspec": {
      "name": "python3",
      "display_name": "Python 3"
    },
    "language_info": {
      "name": "python"
    }
  },
  "cells": [
    {
      "cell_type": "code",
      "execution_count": 1,
      "metadata": {
        "id": "LwZl4r55HoMk"
      },
      "outputs": [],
      "source": [
        "import pandas as pd\n",
        "import numpy as np"
      ]
    },
    {
      "cell_type": "code",
      "source": [
        "file_path = 'dataset.csv'"
      ],
      "metadata": {
        "id": "ygAyHFyzH2mW"
      },
      "execution_count": 11,
      "outputs": []
    },
    {
      "cell_type": "code",
      "source": [
        "df = pd.read_csv(file_path)\n",
        "print(\"Dataset Overview\")\n",
        "print(df.info)"
      ],
      "metadata": {
        "colab": {
          "base_uri": "https://localhost:8080/"
        },
        "id": "jgwezcOpIF_v",
        "outputId": "3ae99efc-203f-47a1-e9dc-e35d4eaa6d14"
      },
      "execution_count": 12,
      "outputs": [
        {
          "output_type": "stream",
          "name": "stdout",
          "text": [
            "Dataset Overview\n",
            "<bound method DataFrame.info of       comments  likes  shares  \\\n",
            "0          161   3594       9   \n",
            "1          382  10020     236   \n",
            "2           97   2197       4   \n",
            "3         1605  39370     154   \n",
            "4          492  12679      98   \n",
            "...        ...    ...     ...   \n",
            "1995       604  13506     898   \n",
            "1996        39   2000      14   \n",
            "1997        63   4470      44   \n",
            "1998        12    272       1   \n",
            "1999        33    735       6   \n",
            "\n",
            "                                                   text  \n",
            "0     A busy road to ICC Men's #T20WorldCup 2024 for...  \n",
            "1     Sri Lanka level the series 1-1 after a stellar...  \n",
            "2     Dimuth Karunaratne believes Sri Lanka did well...  \n",
            "3     Shakib Al Hasan is back playing Test cricket a...  \n",
            "4     Brilliant knocks from Dimuth Karunaratne and K...  \n",
            "...                                                 ...  \n",
            "1995  Chamari Athapaththu leads a powerful ICC Women...  \n",
            "1996  Jack Brassell had the ball on a string 💫\\n\\n#U...  \n",
            "1997  Jack Brassell swings the ball in to uproot Sam...  \n",
            "1998  🔸  Kian Hilton 90 helps Ireland out of peril 👌...  \n",
            "1999  Alexander Volschenk is waging a lone battle ag...  \n",
            "\n",
            "[2000 rows x 4 columns]>\n"
          ]
        }
      ]
    },
    {
      "cell_type": "code",
      "source": [
        "print(\"First few rows of dataset:\")\n",
        "print(df.head())"
      ],
      "metadata": {
        "colab": {
          "base_uri": "https://localhost:8080/"
        },
        "id": "DjSzSKxDIfMa",
        "outputId": "6142b14b-9d73-44ba-f039-f0bf1ccd55a5"
      },
      "execution_count": 13,
      "outputs": [
        {
          "output_type": "stream",
          "name": "stdout",
          "text": [
            "First few rows of dataset:\n",
            "   comments  likes  shares                                               text\n",
            "0       161   3594       9  A busy road to ICC Men's #T20WorldCup 2024 for...\n",
            "1       382  10020     236  Sri Lanka level the series 1-1 after a stellar...\n",
            "2        97   2197       4  Dimuth Karunaratne believes Sri Lanka did well...\n",
            "3      1605  39370     154  Shakib Al Hasan is back playing Test cricket a...\n",
            "4       492  12679      98  Brilliant knocks from Dimuth Karunaratne and K...\n"
          ]
        }
      ]
    },
    {
      "cell_type": "code",
      "source": [
        "# 1. Handling missing values\n",
        "# Check for missing values\n",
        "print(\"\\nMissing values in each column:\")\n",
        "print(df.isnull().sum())\n",
        "\n",
        "# Drop rows with missing values in the 'text' column\n",
        "df.dropna(subset=['text'], inplace=True)\n",
        "\n",
        "# Check if missing values were handled\n",
        "print(\"\\nMissing values after handling:\")\n",
        "print(df.isnull().sum())"
      ],
      "metadata": {
        "colab": {
          "base_uri": "https://localhost:8080/"
        },
        "id": "lURYmJtmIupd",
        "outputId": "b52bdd04-8a53-40ac-f42c-9340c22af94a"
      },
      "execution_count": 14,
      "outputs": [
        {
          "output_type": "stream",
          "name": "stdout",
          "text": [
            "\n",
            "Missing values in each column:\n",
            "comments    0\n",
            "likes       0\n",
            "shares      0\n",
            "text        4\n",
            "dtype: int64\n",
            "\n",
            "Missing values after handling:\n",
            "comments    0\n",
            "likes       0\n",
            "shares      0\n",
            "text        0\n",
            "dtype: int64\n"
          ]
        }
      ]
    },
    {
      "cell_type": "code",
      "source": [
        "# 2. Remove duplicate rows\n",
        "# Number of rows initially without cleaning\n",
        "print(\"\\nNumber of rows before removing duplicates:\", df.shape[0])\n",
        "\n",
        "# Remove duplicate rows\n",
        "df.drop_duplicates(inplace=True)\n",
        "print(\"\\nNumber of rows after removing duplicates:\", df.shape[0])"
      ],
      "metadata": {
        "colab": {
          "base_uri": "https://localhost:8080/"
        },
        "id": "rZjmHoFRIzBy",
        "outputId": "afdb94b8-bd17-4c88-9807-d68c8c59efcd"
      },
      "execution_count": 15,
      "outputs": [
        {
          "output_type": "stream",
          "name": "stdout",
          "text": [
            "\n",
            "Number of rows before removing duplicates: 1996\n",
            "\n",
            "Number of rows after removing duplicates: 1996\n"
          ]
        }
      ]
    },
    {
      "cell_type": "code",
      "source": [
        "# 3. Standardizing text columns (e.g., the 'text' column)\n",
        "df['text'] = df['text'].str.strip() # Remove extra spaces from the 'text' column\n",
        "df['text'] = df['text'].str.lower() # Convert the 'text' column to lowercase"
      ],
      "metadata": {
        "id": "wvWPV-tMI3Hm"
      },
      "execution_count": 16,
      "outputs": []
    },
    {
      "cell_type": "code",
      "source": [
        "# 4. Handling outliers (if any)\n",
        "threshold = 1000\n",
        "df = df[df['likes'] <= threshold]\n",
        "df.drop(columns=['comments', 'shares'], inplace=True)"
      ],
      "metadata": {
        "colab": {
          "base_uri": "https://localhost:8080/"
        },
        "id": "ebsaBpqcI7cO",
        "outputId": "fb2b8a42-35ed-4e23-a3f0-e3bca4863548"
      },
      "execution_count": 17,
      "outputs": [
        {
          "output_type": "stream",
          "name": "stderr",
          "text": [
            "<ipython-input-17-7fabb9cd899c>:4: SettingWithCopyWarning: \n",
            "A value is trying to be set on a copy of a slice from a DataFrame\n",
            "\n",
            "See the caveats in the documentation: https://pandas.pydata.org/pandas-docs/stable/user_guide/indexing.html#returning-a-view-versus-a-copy\n",
            "  df.drop(columns=['comments', 'shares'], inplace=True)\n"
          ]
        }
      ]
    },
    {
      "cell_type": "code",
      "source": [
        "# 7. Check data types after cleaning\n",
        "print(\"\\nData types after cleaning:\")\n",
        "print(df.dtypes)"
      ],
      "metadata": {
        "colab": {
          "base_uri": "https://localhost:8080/"
        },
        "id": "YPm3wljIJjJ1",
        "outputId": "368946d9-f75a-4bc0-82f4-e6818eac29a0"
      },
      "execution_count": 18,
      "outputs": [
        {
          "output_type": "stream",
          "name": "stdout",
          "text": [
            "\n",
            "Data types after cleaning:\n",
            "likes     int64\n",
            "text     object\n",
            "dtype: object\n"
          ]
        }
      ]
    },
    {
      "cell_type": "code",
      "source": [
        "# Save the cleaned data to a new CSV file\n",
        "df.to_csv('icc_fb_page_cleaned.csv', index=False)\n",
        "print(\"\\nData cleaning complete. Cleaned data saved as 'icc_fb_page_cleaned.csv'.\")"
      ],
      "metadata": {
        "colab": {
          "base_uri": "https://localhost:8080/"
        },
        "id": "3o8Y8-QfJqh-",
        "outputId": "8b098851-6cd4-4464-e98d-f2eb051ce905"
      },
      "execution_count": 19,
      "outputs": [
        {
          "output_type": "stream",
          "name": "stdout",
          "text": [
            "\n",
            "Data cleaning complete. Cleaned data saved as 'icc_fb_page_cleaned.csv'.\n"
          ]
        }
      ]
    },
    {
      "cell_type": "code",
      "source": [
        "print(df.head())"
      ],
      "metadata": {
        "colab": {
          "base_uri": "https://localhost:8080/"
        },
        "id": "fEO8VoJXJ_Gt",
        "outputId": "60931755-eaf4-4918-da43-e0076d6273c0"
      },
      "execution_count": 22,
      "outputs": [
        {
          "output_type": "stream",
          "name": "stdout",
          "text": [
            "    likes                                               text\n",
            "6     725  three european teams will compete in an exciti...\n",
            "29    337  england and new zealand hit with injury concer...\n",
            "36    748  an historic day for namibia as their women’s c...\n",
            "37    504  england will be without a key component of the...\n",
            "53    390  in a historic first, 10 players of the namibia...\n"
          ]
        }
      ]
    }
  ]
}