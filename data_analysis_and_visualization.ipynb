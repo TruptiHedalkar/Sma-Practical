{
  "nbformat": 4,
  "nbformat_minor": 0,
  "metadata": {
    "colab": {
      "provenance": []
    },
    "kernelspec": {
      "name": "python3",
      "display_name": "Python 3"
    },
    "language_info": {
      "name": "python"
    }
  },
  "cells": [
    {
      "cell_type": "code",
      "execution_count": 1,
      "metadata": {
        "id": "4uff11i1fsfC"
      },
      "outputs": [],
      "source": [
        "import pandas as pd\n",
        "import numpy as np\n",
        "import matplotlib.pyplot as plt\n",
        "import seaborn as sns\n",
        "from scipy.stats import skew, kurtosis"
      ]
    },
    {
      "cell_type": "code",
      "source": [
        "data = pd.DataFrame({'user_id' : [1,2,3,4,5,6,7,8,9,10],\n",
        "                     'follower_count': [100,200,350,150,250,400,390,298,500,137],\n",
        "                     'likes':[10,15,26,66,42,43,22,64,32,51],\n",
        "                     'shares':[2,5,3,6,7,10,13,35,6,4],\n",
        "                     'comments':[10,20,32,42,13,55,31,41,20,30],\n",
        "                     'engagement_rate':[0.1,0.4,0.12,0.32,0.42,0.21,0.51,0.45,0.15,0.22],\n",
        "                     'sentiment_score':[0.5,0.2,0.4,0.4,0.1,0.6,0.7,0.8,0.9,0.2]})"
      ],
      "metadata": {
        "id": "M-Egs00Gg3B-"
      },
      "execution_count": 4,
      "outputs": []
    },
    {
      "cell_type": "code",
      "source": [
        "print(\"First 5 rows:\\n\")\n",
        "print(data.head())"
      ],
      "metadata": {
        "colab": {
          "base_uri": "https://localhost:8080/"
        },
        "id": "wIJuzMJHia0H",
        "outputId": "b7d7ce75-3584-4130-97eb-a68e200d0ec6"
      },
      "execution_count": 5,
      "outputs": [
        {
          "output_type": "stream",
          "name": "stdout",
          "text": [
            "First 5 rows:\n",
            "\n",
            "   user_id  follower_count  likes  shares  comments  engagement_rate  \\\n",
            "0        1             100     10       2        10             0.10   \n",
            "1        2             200     15       5        20             0.40   \n",
            "2        3             350     26       3        32             0.12   \n",
            "3        4             150     66       6        42             0.32   \n",
            "4        5             250     42       7        13             0.42   \n",
            "\n",
            "   sentiment_score  \n",
            "0              0.5  \n",
            "1              0.2  \n",
            "2              0.4  \n",
            "3              0.4  \n",
            "4              0.1  \n"
          ]
        }
      ]
    },
    {
      "cell_type": "code",
      "source": [
        "print(data.describe())"
      ],
      "metadata": {
        "colab": {
          "base_uri": "https://localhost:8080/"
        },
        "id": "OFd6SshvipEh",
        "outputId": "8608af6e-b987-4d1a-bd2f-67dcae76948d"
      },
      "execution_count": 6,
      "outputs": [
        {
          "output_type": "stream",
          "name": "stdout",
          "text": [
            "        user_id  follower_count      likes     shares   comments  \\\n",
            "count  10.00000        10.00000  10.000000  10.000000  10.000000   \n",
            "mean    5.50000       277.50000  37.100000   9.100000  29.400000   \n",
            "std     3.02765       132.12389  19.467637   9.666092  14.064929   \n",
            "min     1.00000       100.00000  10.000000   2.000000  10.000000   \n",
            "25%     3.25000       162.50000  23.000000   4.250000  20.000000   \n",
            "50%     5.50000       274.00000  37.000000   6.000000  30.500000   \n",
            "75%     7.75000       380.00000  49.000000   9.250000  38.750000   \n",
            "max    10.00000       500.00000  66.000000  35.000000  55.000000   \n",
            "\n",
            "       engagement_rate  sentiment_score  \n",
            "count        10.000000        10.000000  \n",
            "mean          0.290000         0.480000  \n",
            "std           0.148997         0.269979  \n",
            "min           0.100000         0.100000  \n",
            "25%           0.165000         0.250000  \n",
            "50%           0.270000         0.450000  \n",
            "75%           0.415000         0.675000  \n",
            "max           0.510000         0.900000  \n"
          ]
        }
      ]
    },
    {
      "cell_type": "code",
      "source": [
        "print(\"Mean of follower count: \", data['follower_count'].mean())\n",
        "print(\"Median of follower count: \", data['follower_count'].median())\n",
        "print(\"Mode of follower count: \", data['follower_count'].mode())"
      ],
      "metadata": {
        "colab": {
          "base_uri": "https://localhost:8080/"
        },
        "id": "A0mgh6_oiuWd",
        "outputId": "3ead04ea-1ceb-4dc1-a25c-7c3f1d6a1940"
      },
      "execution_count": 7,
      "outputs": [
        {
          "output_type": "stream",
          "name": "stdout",
          "text": [
            "Mean of follower count:  277.5\n",
            "Median of follower count:  274.0\n",
            "Mode of follower count:  0    100\n",
            "1    137\n",
            "2    150\n",
            "3    200\n",
            "4    250\n",
            "5    298\n",
            "6    350\n",
            "7    390\n",
            "8    400\n",
            "9    500\n",
            "Name: follower_count, dtype: int64\n"
          ]
        }
      ]
    },
    {
      "cell_type": "code",
      "source": [
        "print(\"Standard Deviation of follower count: \", data['follower_count'].std())\n",
        "print(\"Variance of follower count: \", data['follower_count'].var())\n",
        "print(\"Range of follower count: \", data['follower_count'].max() - data['follower_count'].min())"
      ],
      "metadata": {
        "colab": {
          "base_uri": "https://localhost:8080/"
        },
        "id": "rtMUUdAjjInw",
        "outputId": "4b58385c-2f47-4f0f-fd71-dd512f69f3ba"
      },
      "execution_count": 8,
      "outputs": [
        {
          "output_type": "stream",
          "name": "stdout",
          "text": [
            "Standard Deviation of follower count:  132.12388967261833\n",
            "Variance of follower count:  17456.722222222223\n",
            "Range of follower count:  400\n"
          ]
        }
      ]
    },
    {
      "cell_type": "code",
      "source": [
        "Q1=data['follower_count'].quantile(0.25)\n",
        "Q3=data['follower_count'].quantile(0.75)\n",
        "IQR = Q3-Q1\n",
        "print(\"Interquantile range of follower counts: \", IQR)"
      ],
      "metadata": {
        "colab": {
          "base_uri": "https://localhost:8080/"
        },
        "id": "0KWqpEUhjlxE",
        "outputId": "f084c21f-a822-4410-9226-2cfd6a59585e"
      },
      "execution_count": 10,
      "outputs": [
        {
          "output_type": "stream",
          "name": "stdout",
          "text": [
            "Interquantile range of follower counts:  217.5\n"
          ]
        }
      ]
    },
    {
      "cell_type": "code",
      "source": [
        "print(\"Skewness of followers count: \",skew(data['follower_count']))\n",
        "print(\"Kurtosis of followers count: \",kurtosis(data['follower_count']))"
      ],
      "metadata": {
        "colab": {
          "base_uri": "https://localhost:8080/"
        },
        "id": "iyhtTU9XkMT0",
        "outputId": "b0796605-7cb0-4637-f2ff-81cc4eeb93e0"
      },
      "execution_count": 11,
      "outputs": [
        {
          "output_type": "stream",
          "name": "stdout",
          "text": [
            "Skewness of followers count:  0.1900241214833505\n",
            "Kurtosis of followers count:  -1.157782688212545\n"
          ]
        }
      ]
    },
    {
      "cell_type": "code",
      "source": [
        "plt.figure(figsize=(14,8))\n",
        "plt.subplot(2,2,1)\n",
        "sns.histplot(data['follower_count'], kde=True, bins=10)\n",
        "plt.title('Distribution of followers count')"
      ],
      "metadata": {
        "colab": {
          "base_uri": "https://localhost:8080/",
          "height": 399
        },
        "id": "04uuBys2kkNj",
        "outputId": "209f0fdf-0584-4b81-e90d-24ae2aaee7e6"
      },
      "execution_count": 20,
      "outputs": [
        {
          "output_type": "execute_result",
          "data": {
            "text/plain": [
              "Text(0.5, 1.0, 'Distribution of followers count')"
            ]
          },
          "metadata": {},
          "execution_count": 20
        },
        {
          "output_type": "display_data",
          "data": {
            "text/plain": [
              "<Figure size 1400x800 with 1 Axes>"
            ],
            "image/png": "[encoded data removed]"
          },
          "metadata": {}
        }
      ]
    },
    {
      "cell_type": "code",
      "source": [
        "plt.subplot(2,2,1)\n",
        "sns.boxplot(x=data['follower_count'])\n",
        "plt.title('Boxplot of follower count')"
      ],
      "metadata": {
        "colab": {
          "base_uri": "https://localhost:8080/",
          "height": 287
        },
        "id": "-ptX8FHElcSH",
        "outputId": "89866073-87b9-486f-dc06-ec14aaf3dbb9"
      },
      "execution_count": 15,
      "outputs": [
        {
          "output_type": "execute_result",
          "data": {
            "text/plain": [
              "Text(0.5, 1.0, 'Boxplot of follower count')"
            ]
          },
          "metadata": {},
          "execution_count": 15
        },
        {
          "output_type": "display_data",
          "data": {
            "text/plain": [
              "<Figure size 640x480 with 1 Axes>"
            ],
            "image/png": "[encoded data removed]"
          },
          "metadata": {}
        }
      ]
    }
  ]
}